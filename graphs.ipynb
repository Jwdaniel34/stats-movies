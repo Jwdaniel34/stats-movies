{
 "cells": [
  {
   "cell_type": "code",
   "execution_count": 1,
   "metadata": {},
   "outputs": [],
   "source": [
    "import pandas as pd"
   ]
  },
  {
   "cell_type": "code",
   "execution_count": 4,
   "metadata": {},
   "outputs": [],
   "source": [
    "df = pd.read_csv('genresWprofit.csv')"
   ]
  },
  {
   "cell_type": "code",
   "execution_count": 10,
   "metadata": {},
   "outputs": [
    {
     "data": {
      "text/html": [
       "<div>\n",
       "<style scoped>\n",
       "    .dataframe tbody tr th:only-of-type {\n",
       "        vertical-align: middle;\n",
       "    }\n",
       "\n",
       "    .dataframe tbody tr th {\n",
       "        vertical-align: top;\n",
       "    }\n",
       "\n",
       "    .dataframe thead th {\n",
       "        text-align: right;\n",
       "    }\n",
       "</style>\n",
       "<table border=\"1\" class=\"dataframe\">\n",
       "  <thead>\n",
       "    <tr style=\"text-align: right;\">\n",
       "      <th></th>\n",
       "      <th>genreid</th>\n",
       "      <th>genreName</th>\n",
       "      <th>profit</th>\n",
       "      <th>COUNT(imdbid)</th>\n",
       "    </tr>\n",
       "  </thead>\n",
       "  <tbody>\n",
       "    <tr>\n",
       "      <th>0</th>\n",
       "      <td>10402</td>\n",
       "      <td>Music</td>\n",
       "      <td>2277332508</td>\n",
       "      <td>70</td>\n",
       "    </tr>\n",
       "    <tr>\n",
       "      <th>1</th>\n",
       "      <td>10749</td>\n",
       "      <td>Romance</td>\n",
       "      <td>20135704332</td>\n",
       "      <td>388</td>\n",
       "    </tr>\n",
       "    <tr>\n",
       "      <th>2</th>\n",
       "      <td>10751</td>\n",
       "      <td>Family</td>\n",
       "      <td>38383900688</td>\n",
       "      <td>254</td>\n",
       "    </tr>\n",
       "    <tr>\n",
       "      <th>3</th>\n",
       "      <td>10752</td>\n",
       "      <td>War</td>\n",
       "      <td>3104408728</td>\n",
       "      <td>84</td>\n",
       "    </tr>\n",
       "    <tr>\n",
       "      <th>4</th>\n",
       "      <td>10770</td>\n",
       "      <td>TV Movie</td>\n",
       "      <td>19852854</td>\n",
       "      <td>4</td>\n",
       "    </tr>\n",
       "    <tr>\n",
       "      <th>5</th>\n",
       "      <td>12</td>\n",
       "      <td>Adventure</td>\n",
       "      <td>70774215428</td>\n",
       "      <td>410</td>\n",
       "    </tr>\n",
       "    <tr>\n",
       "      <th>6</th>\n",
       "      <td>14</td>\n",
       "      <td>Fantasy</td>\n",
       "      <td>40604291504</td>\n",
       "      <td>236</td>\n",
       "    </tr>\n",
       "    <tr>\n",
       "      <th>7</th>\n",
       "      <td>16</td>\n",
       "      <td>Animation</td>\n",
       "      <td>22424163746</td>\n",
       "      <td>106</td>\n",
       "    </tr>\n",
       "    <tr>\n",
       "      <th>8</th>\n",
       "      <td>18</td>\n",
       "      <td>Drama</td>\n",
       "      <td>34984644358</td>\n",
       "      <td>1004</td>\n",
       "    </tr>\n",
       "    <tr>\n",
       "      <th>9</th>\n",
       "      <td>27</td>\n",
       "      <td>Horror</td>\n",
       "      <td>10101987648</td>\n",
       "      <td>268</td>\n",
       "    </tr>\n",
       "    <tr>\n",
       "      <th>10</th>\n",
       "      <td>28</td>\n",
       "      <td>Action</td>\n",
       "      <td>71707301582</td>\n",
       "      <td>594</td>\n",
       "    </tr>\n",
       "    <tr>\n",
       "      <th>11</th>\n",
       "      <td>35</td>\n",
       "      <td>Comedy</td>\n",
       "      <td>52986925494</td>\n",
       "      <td>814</td>\n",
       "    </tr>\n",
       "    <tr>\n",
       "      <th>12</th>\n",
       "      <td>36</td>\n",
       "      <td>History</td>\n",
       "      <td>2207360812</td>\n",
       "      <td>88</td>\n",
       "    </tr>\n",
       "    <tr>\n",
       "      <th>13</th>\n",
       "      <td>37</td>\n",
       "      <td>Western</td>\n",
       "      <td>64147552</td>\n",
       "      <td>34</td>\n",
       "    </tr>\n",
       "    <tr>\n",
       "      <th>14</th>\n",
       "      <td>53</td>\n",
       "      <td>Thriller</td>\n",
       "      <td>31992712878</td>\n",
       "      <td>618</td>\n",
       "    </tr>\n",
       "    <tr>\n",
       "      <th>15</th>\n",
       "      <td>80</td>\n",
       "      <td>Crime</td>\n",
       "      <td>18266633952</td>\n",
       "      <td>360</td>\n",
       "    </tr>\n",
       "    <tr>\n",
       "      <th>16</th>\n",
       "      <td>878</td>\n",
       "      <td>Science Fiction</td>\n",
       "      <td>36542731280</td>\n",
       "      <td>260</td>\n",
       "    </tr>\n",
       "    <tr>\n",
       "      <th>17</th>\n",
       "      <td>9648</td>\n",
       "      <td>Mystery</td>\n",
       "      <td>13548434334</td>\n",
       "      <td>200</td>\n",
       "    </tr>\n",
       "    <tr>\n",
       "      <th>18</th>\n",
       "      <td>99</td>\n",
       "      <td>Documentary</td>\n",
       "      <td>362130848</td>\n",
       "      <td>24</td>\n",
       "    </tr>\n",
       "  </tbody>\n",
       "</table>\n",
       "</div>"
      ],
      "text/plain": [
       "    genreid        genreName       profit  COUNT(imdbid)\n",
       "0     10402            Music   2277332508             70\n",
       "1     10749          Romance  20135704332            388\n",
       "2     10751           Family  38383900688            254\n",
       "3     10752              War   3104408728             84\n",
       "4     10770         TV Movie     19852854              4\n",
       "5        12        Adventure  70774215428            410\n",
       "6        14          Fantasy  40604291504            236\n",
       "7        16        Animation  22424163746            106\n",
       "8        18            Drama  34984644358           1004\n",
       "9        27           Horror  10101987648            268\n",
       "10       28           Action  71707301582            594\n",
       "11       35           Comedy  52986925494            814\n",
       "12       36          History   2207360812             88\n",
       "13       37          Western     64147552             34\n",
       "14       53         Thriller  31992712878            618\n",
       "15       80            Crime  18266633952            360\n",
       "16      878  Science Fiction  36542731280            260\n",
       "17     9648          Mystery  13548434334            200\n",
       "18       99      Documentary    362130848             24"
      ]
     },
     "execution_count": 10,
     "metadata": {},
     "output_type": "execute_result"
    }
   ],
   "source": [
    "df"
   ]
  },
  {
   "cell_type": "code",
   "execution_count": 13,
   "metadata": {},
   "outputs": [],
   "source": [
    "import matplotlib.pyplot as plt"
   ]
  },
  {
   "cell_type": "code",
   "execution_count": 17,
   "metadata": {},
   "outputs": [],
   "source": [
    "prf = [p for p in df['profit']]"
   ]
  },
  {
   "cell_type": "code",
   "execution_count": 19,
   "metadata": {},
   "outputs": [],
   "source": [
    "count_movies = [m for m in df['COUNT(imdbid)']]"
   ]
  },
  {
   "cell_type": "code",
   "execution_count": 28,
   "metadata": {},
   "outputs": [
    {
     "name": "stdout",
     "output_type": "stream",
     "text": [
      "[2277332508, 20135704332, 38383900688, 3104408728, 19852854, 70774215428, 40604291504, 22424163746, 34984644358, 10101987648, 71707301582, 52986925494, 2207360812, 64147552, 31992712878, 18266633952, 36542731280, 13548434334, 362130848]\n",
      "[70, 388, 254, 84, 4, 410, 236, 106, 1004, 268, 594, 814, 88, 34, 618, 360, 260, 200, 24]\n",
      "[27409435.275103163, 1343303521.4607978, 1676325786.5804675, 44836714.77854195, 13653.957359009628, 4989241458.988996, 1647629435.1691883, 408693493.30742776, 6039302430.438789, 465497367.5488308, 7323613676.015819, 7415983038.534389, 33398856.852819808, 375002.8830811555, 3399500783.803989, 1130671977.7716644, 1633615910.0412655, 465902143.5350756, 1494350.1292984867]\n"
     ]
    }
   ],
   "source": [
    "print(prf)\n",
    "print(count_movies)\n",
    "print(wavg)"
   ]
  },
  {
   "cell_type": "code",
   "execution_count": 20,
   "metadata": {},
   "outputs": [
    {
     "data": {
      "text/plain": [
       "5816"
      ]
     },
     "execution_count": 20,
     "metadata": {},
     "output_type": "execute_result"
    }
   ],
   "source": [
    "sum(df['COUNT(imdbid)'])"
   ]
  },
  {
   "cell_type": "code",
   "execution_count": 24,
   "metadata": {},
   "outputs": [],
   "source": [
    "wavg = [prf[i] * (count_movies[i]/sum(df['COUNT(imdbid)'])) for i in range(len(prf))]"
   ]
  },
  {
   "cell_type": "code",
   "execution_count": 26,
   "metadata": {},
   "outputs": [
    {
     "data": {
      "text/plain": [
       "19"
      ]
     },
     "execution_count": 26,
     "metadata": {},
     "output_type": "execute_result"
    }
   ],
   "source": [
    "len(prf)"
   ]
  },
  {
   "cell_type": "code",
   "execution_count": 31,
   "metadata": {},
   "outputs": [
    {
     "data": {
      "text/plain": [
       "<BarContainer object of 19 artists>"
      ]
     },
     "execution_count": 31,
     "metadata": {},
     "output_type": "execute_result"
    },
    {
     "data": {
      "image/png": "[encoded data removed]",
      "text/plain": [
       "<Figure size 432x288 with 1 Axes>"
      ]
     },
     "metadata": {
      "needs_background": "light"
     },
     "output_type": "display_data"
    }
   ],
   "source": [
    "plt.bar(df['genreName'], prf)"
   ]
  },
  {
   "cell_type": "code",
   "execution_count": 33,
   "metadata": {},
   "outputs": [
    {
     "data": {
      "text/plain": [
       "[27409435.275103163,\n",
       " 1343303521.4607978,\n",
       " 1676325786.5804675,\n",
       " 44836714.77854195,\n",
       " 13653.957359009628,\n",
       " 4989241458.988996,\n",
       " 1647629435.1691883,\n",
       " 408693493.30742776,\n",
       " 6039302430.438789,\n",
       " 465497367.5488308,\n",
       " 7323613676.015819,\n",
       " 7415983038.534389,\n",
       " 33398856.852819808,\n",
       " 375002.8830811555,\n",
       " 3399500783.803989,\n",
       " 1130671977.7716644,\n",
       " 1633615910.0412655,\n",
       " 465902143.5350756,\n",
       " 1494350.1292984867]"
      ]
     },
     "execution_count": 33,
     "metadata": {},
     "output_type": "execute_result"
    }
   ],
   "source": [
    "wavg"
   ]
  },
  {
   "cell_type": "code",
   "execution_count": 32,
   "metadata": {},
   "outputs": [
    {
     "data": {
      "text/plain": [
       "<BarContainer object of 19 artists>"
      ]
     },
     "execution_count": 32,
     "metadata": {},
     "output_type": "execute_result"
    },
    {
     "data": {
      "image/png": "[encoded data removed]",
      "text/plain": [
       "<Figure size 432x288 with 1 Axes>"
      ]
     },
     "metadata": {
      "needs_background": "light"
     },
     "output_type": "display_data"
    }
   ],
   "source": [
    "plt.bar(df['genreName'], wavg)"
   ]
  },
  {
   "cell_type": "code",
   "execution_count": null,
   "metadata": {},
   "outputs": [],
   "source": []
  }
 ],
 "metadata": {
  "kernelspec": {
   "display_name": "Python 3",
   "language": "python",
   "name": "python3"
  },
  "language_info": {
   "codemirror_mode": {
    "name": "ipython",
    "version": 3
   },
   "file_extension": ".py",
   "mimetype": "text/x-python",
   "name": "python",
   "nbconvert_exporter": "python",
   "pygments_lexer": "ipython3",
   "version": "3.7.3"
  }
 },
 "nbformat": 4,
 "nbformat_minor": 2
}
