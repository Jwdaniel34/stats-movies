{
 "cells": [
  {
   "cell_type": "code",
   "execution_count": 79,
   "metadata": {},
   "outputs": [],
   "source": [
    "import requests\n",
    "import pandas as pd\n",
    "import locale\n",
    "import json\n",
    "import config\n",
    "import datetime\n",
    "import time\n",
    "import mysql.connector\n",
    "import pickle\n",
    "import \n",
    "\n",
    "api_key = 'faf8be11d952e504b113126fb62259c6'"
   ]
  },
  {
   "cell_type": "code",
   "execution_count": 80,
   "metadata": {},
   "outputs": [],
   "source": [
    "cnx = mysql.connector.connect(\n",
    "            host = config.host,\n",
    "            user = config.user,\n",
    "            passwd = config.password)\n",
    "\n",
    "cursor = cnx.cursor()"
   ]
  },
  {
   "cell_type": "code",
   "execution_count": null,
   "metadata": {},
   "outputs": [],
   "source": []
  },
  {
   "cell_type": "code",
   "execution_count": 3,
   "metadata": {},
   "outputs": [],
   "source": [
    "TABLES = {}\n",
    "\n",
    "TABLES['movies'] = (\"\"\"CREATE TABLE john (\n",
    "                                 imdbid VARCHAR(25),\n",
    "                                 movieTitle VARCHAR(255) NOT NULL,\n",
    "                                 released DATE NOT NULL,\n",
    "                                 genreId VARCHAR(14),\n",
    "                                 genreName VARCHAR(33),\n",
    "                                 rating REAL,\n",
    "                                 PRIMARY KEY (movieTitle, released)\n",
    "                                 ) ENGINE=InnoDB\"\"\")\n"
   ]
  },
  {
   "cell_type": "code",
   "execution_count": null,
   "metadata": {},
   "outputs": [],
   "source": []
  },
  {
   "cell_type": "code",
   "execution_count": 82,
   "metadata": {},
   "outputs": [],
   "source": [
    "def add_tables_to_db(TABLES, cursor, db_name):\n",
    "    from mysql.connector import errorcode\n",
    "    for table_name in TABLES:\n",
    "        table_description = TABLES[table_name]\n",
    "        try:\n",
    "            print(\"Creating table {}: \".format(table_name), end='')\n",
    "            cursor.execute(f\"\"\"USE {db_name}\"\"\")\n",
    "            cursor.execute(table_description)\n",
    "        except mysql.connector.Error as err:\n",
    "            if err.errno == errorcode.ER_TABLE_EXISTS_ERROR:\n",
    "                print(\"already exists.\")\n",
    "            else:\n",
    "                print(err.msg)\n",
    "        else:\n",
    "            print(\"OK\")"
   ]
  },
  {
   "cell_type": "code",
   "execution_count": 83,
   "metadata": {
    "scrolled": false
   },
   "outputs": [
    {
     "name": "stdout",
     "output_type": "stream",
     "text": [
      "Creating table movies: already exists.\n",
      "Creating table movie_genres: already exists.\n",
      "Creating table genreid: already exists.\n"
     ]
    }
   ],
   "source": [
    "add_tables_to_db(TABLES, cursor, 'Moovies')"
   ]
  },
  {
   "cell_type": "code",
   "execution_count": 4,
   "metadata": {},
   "outputs": [],
   "source": [
    "TABLES['movie_genres'] = (\"\"\"CREATE TABLE movie_genres (\n",
    "                                 mg_id INTEGER AUTO_INCREMENT,\n",
    "                                 imdbid VARCHAR(25),\n",
    "                                 genreId VARCHAR(14),\n",
    "                                 PRIMARY KEY (mg_id)\n",
    "                                 ) ENGINE=InnoDB\"\"\")"
   ]
  },
  {
   "cell_type": "code",
   "execution_count": 5,
   "metadata": {},
   "outputs": [],
   "source": [
    "TABLES['genreid'] = (\"\"\"CREATE TABLE genreid (\n",
    "                                 genreId VARCHAR(14),\n",
    "                                 genreName VARCHAR(33),\n",
    "                                 PRIMARY KEY (genreId)\n",
    "                                 ) ENGINE=InnoDB\"\"\")"
   ]
  },
  {
   "cell_type": "code",
   "execution_count": null,
   "metadata": {},
   "outputs": [],
   "source": []
  },
  {
   "cell_type": "code",
   "execution_count": 7,
   "metadata": {},
   "outputs": [],
   "source": [
    "# iterating through a pages\n",
    "popular_movies = []\n",
    "for i in range(1,992):\n",
    "    try:\n",
    "        pnum = i\n",
    "    #     url = f'https://api.themoviedb.org/3/discover/movie?api_key=faf8be11d952e504b113126fb62259c6&certification_country=US&certification.lte=G&sort_by=popularity.desc&page={pnum}'\n",
    "        url = f'https://api.themoviedb.org/3/movie/popular?api_key={api_key}&language=en-US&page={pnum}'\n",
    "        headers = {'Authorization': 'Bearer {}'.format(api_key)}\n",
    "        response = requests.get(url, headers=headers)\n",
    "        data = response.json()['results']\n",
    "        popular_movies.extend(data)\n",
    "#         if i % 40 == 0:\n",
    "        time.sleep(1)\n",
    "    except KeyError:\n",
    "        pass\n",
    "        if e.errno != errno.ECONNRESET:\n",
    "            raise\n",
    "                \n",
    "                \n",
    "                \n",
    "                \n",
    "    "
   ]
  },
  {
   "cell_type": "code",
   "execution_count": 12,
   "metadata": {},
   "outputs": [
    {
     "data": {
      "text/plain": [
       "19820"
      ]
     },
     "execution_count": 12,
     "metadata": {},
     "output_type": "execute_result"
    }
   ],
   "source": [
    "len(popular_movies)"
   ]
  },
  {
   "cell_type": "code",
   "execution_count": 8,
   "metadata": {},
   "outputs": [],
   "source": [
    "# iterating through the movies list to parse the movie_id\n",
    "def movie_list(popular_movies):\n",
    "    popular_list = []\n",
    "    for popular in popular_movies:\n",
    "        popular_list.append(popular['id'])\n",
    "    return popular_list\n",
    "\n",
    "\n",
    "movie_id = movie_list(popular_movies)   \n",
    "    \n",
    "#used the movie id to iterate through a full detailed list of movies    \n"
   ]
  },
  {
   "cell_type": "code",
   "execution_count": 9,
   "metadata": {},
   "outputs": [],
   "source": [
    "def movie_details(movie_id):\n",
    "    detailed_list = []\n",
    "#     detailed_lists = {}\n",
    "    for movie in movie_id:\n",
    "        url2 = f'https://api.themoviedb.org/3/movie/{movie}?api_key=faf8be11d952e504b113126fb62259c6&language=en-US'\n",
    "        response2 = requests.get(url2, headers = headers)\n",
    "        data2 = response2.json()\n",
    "#         print(data2)\n",
    "#         decoded = json.dumps(data2)\n",
    "#         print(decoded)\n",
    "#         encoded = json.loads(decoded)\n",
    "#         detailed_lists.update(encoded)\n",
    "#         print(encoded)\n",
    "        detailed_list.append(data2)\n",
    "    # we want to ADD all the detail lists togther\n",
    "    return detailed_list\n"
   ]
  },
  {
   "cell_type": "code",
   "execution_count": null,
   "metadata": {},
   "outputs": [],
   "source": [
    "# we want to put a functino in a for loop\n",
    "# the function takes a list of movie_ids and returns detail_list AKA info\n",
    "# take detail list and save it somehow..... is this for all movies?????\n",
    "\n",
    "# instead of RUNNING ALL moive ids....\n",
    "#take each movie in segments\n"
   ]
  },
  {
   "cell_type": "code",
   "execution_count": 43,
   "metadata": {},
   "outputs": [],
   "source": [
    "filename = 'movie_details'"
   ]
  },
  {
   "cell_type": "code",
   "execution_count": 44,
   "metadata": {},
   "outputs": [],
   "source": [
    "outfile = open(filename, 'wb')"
   ]
  },
  {
   "cell_type": "code",
   "execution_count": 45,
   "metadata": {},
   "outputs": [],
   "source": [
    "pickle.dump(full_list, outfile)"
   ]
  },
  {
   "cell_type": "code",
   "execution_count": 46,
   "metadata": {},
   "outputs": [],
   "source": [
    "outfile.close()"
   ]
  },
  {
   "cell_type": "code",
   "execution_count": 47,
   "metadata": {},
   "outputs": [],
   "source": [
    "infile = open(filename, 'rb')\n",
    "p = pickle.load(infile)\n",
    "infile.close()"
   ]
  },
  {
   "cell_type": "code",
   "execution_count": 88,
   "metadata": {
    "collapsed": true
   },
   "outputs": [
    {
     "data": {
      "text/plain": [
       "{'adult': False,\n",
       " 'backdrop_path': '/1TUg5pO1VZ4B0Q1amk3OlXvlpXV.jpg',\n",
       " 'belongs_to_collection': None,\n",
       " 'budget': 260000000,\n",
       " 'genres': [{'id': 12, 'name': 'Adventure'},\n",
       "  {'id': 16, 'name': 'Animation'},\n",
       "  {'id': 10751, 'name': 'Family'},\n",
       "  {'id': 18, 'name': 'Drama'},\n",
       "  {'id': 28, 'name': 'Action'}],\n",
       " 'homepage': 'https://movies.disney.com/the-lion-king-2019',\n",
       " 'id': 420818,\n",
       " 'imdb_id': 'tt6105098',\n",
       " 'original_language': 'en',\n",
       " 'original_title': 'The Lion King',\n",
       " 'overview': \"Simba idolises his father, King Mufasa, and takes to heart his own royal destiny. But not everyone in the kingdom celebrates the new cub's arrival. Scar, Mufasa's brother—and former heir to the throne—has plans of his own. The battle for Pride Rock is ravaged with betrayal, tragedy and drama, ultimately resulting in Simba's exile. With help from a curious pair of newfound friends, Simba will have to figure out how to grow up and take back what is rightfully his.\",\n",
       " 'popularity': 409.507,\n",
       " 'poster_path': '/dzBtMocZuJbjLOXvrl4zGYigDzh.jpg',\n",
       " 'production_companies': [{'id': 2,\n",
       "   'logo_path': '/wdrCwmRnLFJhEoH8GSfymY85KHT.png',\n",
       "   'name': 'Walt Disney Pictures',\n",
       "   'origin_country': 'US'},\n",
       "  {'id': 7297,\n",
       "   'logo_path': '/l29JYQVZbTcjZXoz4CUYFpKRmM3.png',\n",
       "   'name': 'Fairview Entertainment',\n",
       "   'origin_country': ''}],\n",
       " 'production_countries': [{'iso_3166_1': 'US',\n",
       "   'name': 'United States of America'}],\n",
       " 'release_date': '2019-07-12',\n",
       " 'revenue': 713650600,\n",
       " 'runtime': 118,\n",
       " 'spoken_languages': [{'iso_639_1': 'en', 'name': 'English'}],\n",
       " 'status': 'Released',\n",
       " 'tagline': 'The King has Returned.',\n",
       " 'title': 'The Lion King',\n",
       " 'video': False,\n",
       " 'vote_average': 7.2,\n",
       " 'vote_count': 1220}"
      ]
     },
     "execution_count": 88,
     "metadata": {},
     "output_type": "execute_result"
    }
   ],
   "source": [
    "p[0]"
   ]
  },
  {
   "cell_type": "code",
   "execution_count": 36,
   "metadata": {},
   "outputs": [],
   "source": [
    "# 100 at a time\n",
    "\n",
    "# 19820 results\n",
    "\n",
    "full_list = []\n",
    "a = 0\n",
    "b = 100\n",
    "while b <= 19820:\n",
    "    new = movie_details(movie_id[a:b])\n",
    "    full_list.extend(new)\n",
    "    a += 100\n",
    "    b += 100\n",
    "    time.sleep(1)\n",
    "else:\n",
    "    full_list.extend(movie_id[19800:19820])\n",
    "        \n",
    "    \n",
    "# a = 19800, b = 19900"
   ]
  },
  {
   "cell_type": "code",
   "execution_count": 35,
   "metadata": {},
   "outputs": [
    {
     "data": {
      "text/plain": [
       "384018"
      ]
     },
     "execution_count": 35,
     "metadata": {},
     "output_type": "execute_result"
    }
   ],
   "source": [
    "movie_id[5]"
   ]
  },
  {
   "cell_type": "code",
   "execution_count": 73,
   "metadata": {
    "collapsed": true
   },
   "outputs": [
    {
     "name": "stdout",
     "output_type": "stream",
     "text": [
      "tt6105098 12\n",
      "tt6105098 16\n",
      "tt6105098 10751\n",
      "tt6105098 18\n",
      "tt6105098 28\n",
      "tt4154796 12\n",
      "tt4154796 878\n",
      "tt4154796 28\n",
      "tt9501310 16\n",
      "tt9501310 28\n",
      "tt9501310 18\n",
      "tt9501310 9648\n",
      "tt9501310 35\n",
      "tt6320628 28\n",
      "tt6320628 12\n",
      "tt6320628 878\n",
      "tt6806448 28\n",
      "tt0437086 28\n",
      "tt0437086 878\n",
      "tt0437086 53\n",
      "tt0437086 12\n",
      "tt4154756 12\n",
      "tt4154756 28\n",
      "tt4154756 878\n",
      "tt2139881 35\n",
      "tt2139881 10749\n",
      "tt0317219 16\n",
      "tt0317219 12\n",
      "tt0317219 35\n",
      "tt0317219 10751\n",
      "tt7131622 18\n",
      "tt7131622 35\n",
      "tt7131622 28\n",
      "tt7131622 80\n",
      "tt7131622 37\n",
      "tt3741700 878\n",
      "tt3741700 28\n",
      "tt1979376 12\n",
      "tt1979376 16\n",
      "tt1979376 35\n",
      "tt1979376 10751\n",
      "tt4154664 28\n",
      "tt4154664 12\n",
      "tt4154664 878\n",
      "tt0448115 28\n",
      "tt0448115 35\n",
      "tt0448115 14\n",
      "tt6146586 80\n",
      "tt6146586 28\n",
      "tt6146586 53\n",
      "tt5884052 28\n",
      "tt5884052 12\n",
      "tt5884052 14\n",
      "None 28\n",
      "None 12\n",
      "None 878\n",
      "tt2283336 28\n",
      "tt2283336 35\n",
      "tt2283336 878\n",
      "tt2283336 12\n",
      "tt8022928 12\n",
      "tt8022928 10751\n",
      "tt8022928 10402\n",
      "tt10656752 18\n",
      "tt10656752 10770\n",
      "tt2274648 28\n",
      "tt2274648 12\n",
      "tt2274648 14\n",
      "tt2274648 27\n",
      "tt2274648 878\n",
      "tt6139732 12\n",
      "tt6139732 14\n",
      "tt6139732 10749\n",
      "tt6139732 35\n",
      "tt6139732 10751\n",
      "tt0201716 80\n",
      "tt0201716 18\n",
      "tt8752440 80\n",
      "tt8752440 16\n",
      "tt8752440 9648\n",
      "tt8752440 28\n",
      "tt8364368 53\n",
      "tt8364368 28\n",
      "tt8364368 27\n",
      "tt1375666 28\n",
      "tt1375666 878\n",
      "tt1375666 12\n",
      "tt0848228 878\n",
      "tt0848228 28\n",
      "tt0848228 12\n",
      "tt3861390 12\n",
      "tt3861390 10751\n",
      "tt3861390 14\n",
      "tt2911666 28\n",
      "tt2911666 53\n",
      "tt2076298 28\n",
      "tt2076298 18\n",
      "tt2076298 36\n",
      "tt10550884 28\n",
      "tt10550884 27\n",
      "tt10550884 9648\n",
      "tt4633694 28\n",
      "tt4633694 12\n",
      "tt4633694 16\n",
      "tt4633694 878\n",
      "tt4633694 35\n",
      "tt2386490 16\n",
      "tt2386490 10751\n",
      "tt2386490 12\n",
      "tt0241527 12\n",
      "tt0241527 14\n",
      "tt0241527 10751\n",
      "tt9648942 10749\n",
      "tt9648942 18\n",
      "tt2310332 28\n",
      "tt2310332 12\n",
      "tt2310332 14\n",
      "tt6565702 878\n",
      "tt6565702 28\n",
      "tt4429160 16\n",
      "tt4429160 10749\n"
     ]
    },
    {
     "ename": "KeyError",
     "evalue": "'genres'",
     "output_type": "error",
     "traceback": [
      "\u001b[0;31m---------------------------------------------------------------------------\u001b[0m",
      "\u001b[0;31mKeyError\u001b[0m                                  Traceback (most recent call last)",
      "\u001b[0;32m<ipython-input-73-12beba219a63>\u001b[0m in \u001b[0;36m<module>\u001b[0;34m\u001b[0m\n\u001b[1;32m      1\u001b[0m \u001b[0;32mfor\u001b[0m \u001b[0mmovie\u001b[0m \u001b[0;32min\u001b[0m \u001b[0mfull_list\u001b[0m\u001b[0;34m:\u001b[0m\u001b[0;34m\u001b[0m\u001b[0;34m\u001b[0m\u001b[0m\n\u001b[0;32m----> 2\u001b[0;31m     \u001b[0;32mfor\u001b[0m \u001b[0mi\u001b[0m \u001b[0;32min\u001b[0m \u001b[0mmovie\u001b[0m\u001b[0;34m[\u001b[0m\u001b[0;34m'genres'\u001b[0m\u001b[0;34m]\u001b[0m\u001b[0;34m:\u001b[0m\u001b[0;34m\u001b[0m\u001b[0;34m\u001b[0m\u001b[0m\n\u001b[0m\u001b[1;32m      3\u001b[0m         \u001b[0mprint\u001b[0m\u001b[0;34m(\u001b[0m\u001b[0mmovie\u001b[0m\u001b[0;34m[\u001b[0m\u001b[0;34m'imdb_id'\u001b[0m\u001b[0;34m]\u001b[0m\u001b[0;34m,\u001b[0m\u001b[0mi\u001b[0m\u001b[0;34m[\u001b[0m\u001b[0;34m'id'\u001b[0m\u001b[0;34m]\u001b[0m\u001b[0;34m)\u001b[0m\u001b[0;34m\u001b[0m\u001b[0;34m\u001b[0m\u001b[0m\n",
      "\u001b[0;31mKeyError\u001b[0m: 'genres'"
     ]
    }
   ],
   "source": [
    "for movie in full_list:\n",
    "    for i in movie['genres']:\n",
    "        print(movie['imdb_id'],i['id'])"
   ]
  },
  {
   "cell_type": "code",
   "execution_count": 86,
   "metadata": {},
   "outputs": [],
   "source": [
    "def add_genre(full_list):\n",
    "    for movie in full_list:\n",
    "        try:\n",
    "            for i in movie['genres']:\n",
    "#                 then place the id and name into a genre table, \n",
    "                cursor.execute('''\n",
    "                      INSERT INTO movie_genres (imdbid, genreId)\n",
    "                       VALUES(%s, %s)''', (movie['imdb_id'], i['id']))\n",
    "#                 print(i['id'],i['name'])\n",
    "        except KeyError:\n",
    "            pass\n",
    "        except TypeError:\n",
    "            print('issue with this: ', movie)\n",
    "    cnx.commit()\n",
    "    \n",
    "#       imdbid VARCHAR(25),\n",
    "#                                  genreId VARCHAR(14),"
   ]
  },
  {
   "cell_type": "code",
   "execution_count": 87,
   "metadata": {},
   "outputs": [
    {
     "name": "stdout",
     "output_type": "stream",
     "text": [
      "issue with this:  18287\n",
      "issue with this:  71701\n",
      "issue with this:  108726\n",
      "issue with this:  29621\n",
      "issue with this:  31132\n",
      "issue with this:  289007\n",
      "issue with this:  104089\n",
      "issue with this:  64509\n",
      "issue with this:  321666\n",
      "issue with this:  18206\n",
      "issue with this:  20145\n",
      "issue with this:  287415\n",
      "issue with this:  61821\n",
      "issue with this:  407389\n",
      "issue with this:  289712\n",
      "issue with this:  28963\n",
      "issue with this:  274817\n",
      "issue with this:  69654\n",
      "issue with this:  15673\n",
      "issue with this:  43155\n"
     ]
    }
   ],
   "source": [
    "add_genre(full_list)"
   ]
  },
  {
   "cell_type": "code",
   "execution_count": null,
   "metadata": {},
   "outputs": [],
   "source": [
    "def add_genreid(m):\n",
    "    genres = []\n",
    "    for movie in range(len(m)):\n",
    "        try:\n",
    "            for i in m[movie]['genres']:\n",
    "#                 then place the id and name into a genre table, \n",
    "                cursor.execute('''\n",
    "                      INSERT IGNORE INTO genreid (genreId, genreName)\n",
    "                       VALUES( %s, %s)''', (i['id'], i['name']))\n",
    "#                 print(i['id'],i['name'])\n",
    "                genres.append({m[movie]['title'] : (i['id'], i['name'])})\n",
    "        except KeyError:\n",
    "            pass\n",
    "        \n",
    "    cnx.commit()"
   ]
  },
  {
   "cell_type": "code",
   "execution_count": null,
   "metadata": {},
   "outputs": [],
   "source": [
    "add_genreid(m)"
   ]
  },
  {
   "cell_type": "code",
   "execution_count": null,
   "metadata": {},
   "outputs": [],
   "source": [
    "def add_movie(m):\n",
    "    movie = []\n",
    "    for ids in m:\n",
    "        try:\n",
    "            cursor.execute('''\n",
    "              INSERT IGNORE INTO john (imdbid, movieTitle, released, rating )\n",
    "              VALUES( %s, %s, %s, %s)''', (ids['imdb_id'],ids['title'], ids['release_date'],ids['vote_average']))\n",
    "#             print(ids['id'],ids['title'],ids['imdb_id'], ids['release_date'], ids['vote_average'], int(ids['vote_count']))\n",
    "            movie.append({ids['id'] : ids['title']})\n",
    "        except KeyError:\n",
    "            pass\n",
    "\n",
    "    cnx.commit()\n",
    "#                                  movieId VARCHAR(25),\n",
    "#                                  movieTitle VARCHAR(255) NOT NULL,\n",
    "#                                  released DATE NOT NULL,\n",
    "#                                  genreId VARCHAR(14),\n",
    "#                                  genreName VARCHAR(33),\n",
    "#                                  rating REAL,\n",
    "#                                  PRIMARY KEY (movieTitle, released)\n",
    "#                                  ) ENGINE=InnoDB\"\"\")\n"
   ]
  },
  {
   "cell_type": "code",
   "execution_count": null,
   "metadata": {},
   "outputs": [],
   "source": [
    "add_movie(m)"
   ]
  },
  {
   "cell_type": "code",
   "execution_count": null,
   "metadata": {},
   "outputs": [],
   "source": [
    "cnx.commit()"
   ]
  },
  {
   "cell_type": "code",
   "execution_count": null,
   "metadata": {},
   "outputs": [],
   "source": [
    "# Production company and ID\n",
    "production_movie = []\n",
    "for movie in range(len(m)):\n",
    "    try:\n",
    "        #  cursor.execute('''\n",
    "#           INSERT IGNORE INTO businesses (restaurant_id, business_name, business_rating, business_price)\n",
    "#           VALUES( %s, %s, %s, %s)''', (business['id'], business['name'], business['rating'], business['price']))\n",
    "#         print(ids['id'],ids['title'],ids['budget'],ids['revenue'])\n",
    "        for production in m[movie]['production_companies']:\n",
    "#             print(production['id'], production['name'])\n",
    "            production_movie.append({m[movie]['title'] : (production['id'], production['name'])})\n",
    "    except KeyError:\n",
    "            pass"
   ]
  },
  {
   "cell_type": "code",
   "execution_count": null,
   "metadata": {},
   "outputs": [],
   "source": [
    "# production_movie"
   ]
  },
  {
   "cell_type": "code",
   "execution_count": null,
   "metadata": {},
   "outputs": [],
   "source": [
    "rating = []\n",
    "for ratings in m:\n",
    "    try:\n",
    "#         print(ratings['vote_count'],int(ratings['vote_average']))\n",
    "        rating.append({ratings['title'] : (ratings['vote_average'], ratings['vote_count'])})\n",
    "    except KeyError:\n",
    "        pass"
   ]
  },
  {
   "cell_type": "code",
   "execution_count": null,
   "metadata": {},
   "outputs": [],
   "source": [
    "# rating"
   ]
  },
  {
   "cell_type": "code",
   "execution_count": null,
   "metadata": {},
   "outputs": [],
   "source": []
  },
  {
   "cell_type": "code",
   "execution_count": null,
   "metadata": {},
   "outputs": [],
   "source": []
  },
  {
   "cell_type": "code",
   "execution_count": null,
   "metadata": {},
   "outputs": [],
   "source": []
  }
 ],
 "metadata": {
  "kernelspec": {
   "display_name": "Python 3",
   "language": "python",
   "name": "python3"
  },
  "language_info": {
   "codemirror_mode": {
    "name": "ipython",
    "version": 3
   },
   "file_extension": ".py",
   "mimetype": "text/x-python",
   "name": "python",
   "nbconvert_exporter": "python",
   "pygments_lexer": "ipython3",
   "version": "3.7.3"
  }
 },
 "nbformat": 4,
 "nbformat_minor": 2
}
