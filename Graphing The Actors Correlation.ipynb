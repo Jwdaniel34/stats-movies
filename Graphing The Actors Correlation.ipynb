{
 "cells": [
  {
   "cell_type": "code",
   "execution_count": 1,
   "metadata": {},
   "outputs": [],
   "source": [
    "import config\n",
    "import csv\n",
    "from mysql.connector import errorcode\n",
    "import pandas as pd\n",
    "import mysql.connector as mysql\n",
    "import numpy as np\n",
    "%matplotlib inline\n",
    "import matplotlib.pyplot as plt\n",
    "plt.style.use('seaborn-whitegrid')\n"
   ]
  },
  {
   "cell_type": "code",
   "execution_count": 2,
   "metadata": {},
   "outputs": [],
   "source": [
    "DB_NAME = 'Moovies'"
   ]
  },
  {
   "cell_type": "code",
   "execution_count": 3,
   "metadata": {},
   "outputs": [
    {
     "data": {
      "text/plain": [
       "<mysql.connector.cursor.MySQLCursor at 0x11ee6de80>"
      ]
     },
     "execution_count": 3,
     "metadata": {},
     "output_type": "execute_result"
    }
   ],
   "source": [
    "cnx = mysql.connect(\n",
    "    host = config.host,\n",
    "    user = config.user,\n",
    "    passwd = config.password,\n",
    "#     database = DB_NAME\n",
    ")\n",
    "c = cnx.cursor()\n",
    "c"
   ]
  },
  {
   "cell_type": "code",
   "execution_count": 5,
   "metadata": {},
   "outputs": [],
   "source": [
    "# c.execute(\"\"\"SELECT e.actor, genreId, \n",
    "#             gid.genreName, mj.movieTitle,\n",
    "#             (mm.GrossDomestic - mm.Budget) as profit\n",
    "#             FROM Moovies.actors e\n",
    "#             JOIN Moovies.movie_genres g using(imdbid)\n",
    "#             JOIN Moovies.genreid gid using(genreid)\n",
    "#             JOIN Moovies.movie_genres o using(genreid)\n",
    "#             JOIN Moovies.john mj ON mj.imdbid = o.imdbid\n",
    "#             JOIN Moovies.money mm ON mj.movieTitle = mm.Title\n",
    "#             WHERE gid.genreName IN ('Comedy', 'Action', 'Drama', 'Adventure', 'Thriller')\n",
    "#             ORDER BY e.actor\n",
    "#                                 \"\"\")"
   ]
  },
  {
   "cell_type": "code",
   "execution_count": null,
   "metadata": {},
   "outputs": [],
   "source": [
    "# df = pd.DataFrame(c.fetchall())\n",
    "# df.columns = [x[0] for x in c.description]"
   ]
  },
  {
   "cell_type": "code",
   "execution_count": 52,
   "metadata": {},
   "outputs": [
    {
     "data": {
      "text/html": [
       "<div>\n",
       "<style scoped>\n",
       "    .dataframe tbody tr th:only-of-type {\n",
       "        vertical-align: middle;\n",
       "    }\n",
       "\n",
       "    .dataframe tbody tr th {\n",
       "        vertical-align: top;\n",
       "    }\n",
       "\n",
       "    .dataframe thead th {\n",
       "        text-align: right;\n",
       "    }\n",
       "</style>\n",
       "<table border=\"1\" class=\"dataframe\">\n",
       "  <thead>\n",
       "    <tr style=\"text-align: right;\">\n",
       "      <th></th>\n",
       "      <th>actor</th>\n",
       "      <th>nummovies</th>\n",
       "      <th>Wavgrating</th>\n",
       "      <th>GenreName</th>\n",
       "    </tr>\n",
       "  </thead>\n",
       "  <tbody>\n",
       "    <tr>\n",
       "      <th>0</th>\n",
       "      <td>Giancarlo Esposito</td>\n",
       "      <td>8</td>\n",
       "      <td>0.451557</td>\n",
       "      <td>Comedy</td>\n",
       "    </tr>\n",
       "    <tr>\n",
       "      <th>1</th>\n",
       "      <td>Adam Sandler</td>\n",
       "      <td>8</td>\n",
       "      <td>0.394464</td>\n",
       "      <td>Comedy</td>\n",
       "    </tr>\n",
       "    <tr>\n",
       "      <th>2</th>\n",
       "      <td>Tim Robbins</td>\n",
       "      <td>6</td>\n",
       "      <td>0.346021</td>\n",
       "      <td>Comedy</td>\n",
       "    </tr>\n",
       "    <tr>\n",
       "      <th>3</th>\n",
       "      <td>Regina Hall</td>\n",
       "      <td>6</td>\n",
       "      <td>0.333910</td>\n",
       "      <td>Comedy</td>\n",
       "    </tr>\n",
       "    <tr>\n",
       "      <th>4</th>\n",
       "      <td>Diane Keaton</td>\n",
       "      <td>6</td>\n",
       "      <td>0.332180</td>\n",
       "      <td>Comedy</td>\n",
       "    </tr>\n",
       "  </tbody>\n",
       "</table>\n",
       "</div>"
      ],
      "text/plain": [
       "                actor  nummovies  Wavgrating GenreName\n",
       "0  Giancarlo Esposito          8    0.451557    Comedy\n",
       "1        Adam Sandler          8    0.394464    Comedy\n",
       "2         Tim Robbins          6    0.346021    Comedy\n",
       "3         Regina Hall          6    0.333910    Comedy\n",
       "4        Diane Keaton          6    0.332180    Comedy"
      ]
     },
     "execution_count": 52,
     "metadata": {},
     "output_type": "execute_result"
    }
   ],
   "source": [
    "df = pd.read_csv(\"ActorsAVGprofitGen.csv\")\n",
    "df.head()"
   ]
  },
  {
   "cell_type": "code",
   "execution_count": 53,
   "metadata": {},
   "outputs": [
    {
     "data": {
      "text/plain": [
       "1160"
      ]
     },
     "execution_count": 53,
     "metadata": {},
     "output_type": "execute_result"
    }
   ],
   "source": [
    "toptencomdir_rating = df[0:15]\n",
    "sum(df['nummovies'])"
   ]
  },
  {
   "cell_type": "code",
   "execution_count": 62,
   "metadata": {},
   "outputs": [
    {
     "data": {
      "image/png": "[encoded data removed]",
      "text/plain": [
       "<Figure size 432x288 with 1 Axes>"
      ]
     },
     "metadata": {
      "needs_background": "light"
     },
     "output_type": "display_data"
    }
   ],
   "source": [
    "ax = toptencomdir_rating.plot.bar(x = 'actor', y= 'Wavgrating', color=['r', 'b', 'green', 'blue', 'cyan'])\n",
    "ax.set_ylabel('Average Rating')\n",
    "\n",
    "ax.set_title('Actors and Rating')\n",
    "\n",
    "plt.show()"
   ]
  },
  {
   "cell_type": "code",
   "execution_count": null,
   "metadata": {},
   "outputs": [],
   "source": [
    "figs, ax = plt.subplot(figsize = (15,7))\n",
    "ax.toptencomdir_profit.bar(df['actor'], df['avgrating'], )\n",
    "ax.set_xlabel('Actor')\n",
    "ax.set_ylabel('Average Rating')\n",
    "ax.set_title('Actors and Profit')\n",
    "plt.show()"
   ]
  },
  {
   "cell_type": "code",
   "execution_count": 29,
   "metadata": {},
   "outputs": [
    {
     "data": {
      "image/png": "[encoded data removed]",
      "text/plain": [
       "<Figure size 432x288 with 1 Axes>"
      ]
     },
     "metadata": {
      "needs_background": "light"
     },
     "output_type": "display_data"
    }
   ],
   "source": [
    "# Define a new figure with matplotlib's .plot() function. \n",
    "new_figure = plt.figure()\n",
    "\n",
    "# Add a subplot to the figure - a new axes\n",
    "ax = new_figure.add_subplot(111)\n",
    "\n",
    "# Generate a line plot \n",
    "ax.plot(toptencomdir_profit['nummovies'],toptencomdir_profit['avgrating'], color='lightblue', linewidth=3, linestyle = '-.')\n",
    "\n",
    "# Draw a scatter plot on same axes\n",
    "ax.scatter(toptencomdir_profit['actor'], toptencomdir_profit['profit'], color='red', marker='o')\n",
    "\n",
    "# Set the limits of x and y for axes\n",
    "ax.set_xlim(0, 9), ax.set_ylim(5,35)\n",
    "\n",
    "# Show the plot\n",
    "plt.show()"
   ]
  },
  {
   "cell_type": "code",
   "execution_count": 49,
   "metadata": {},
   "outputs": [
    {
     "data": {
      "text/html": [
       "<div>\n",
       "<style scoped>\n",
       "    .dataframe tbody tr th:only-of-type {\n",
       "        vertical-align: middle;\n",
       "    }\n",
       "\n",
       "    .dataframe tbody tr th {\n",
       "        vertical-align: top;\n",
       "    }\n",
       "\n",
       "    .dataframe thead th {\n",
       "        text-align: right;\n",
       "    }\n",
       "</style>\n",
       "<table border=\"1\" class=\"dataframe\">\n",
       "  <thead>\n",
       "    <tr style=\"text-align: right;\">\n",
       "      <th></th>\n",
       "      <th>actor</th>\n",
       "      <th>nummovies</th>\n",
       "      <th>Wavgprofit</th>\n",
       "      <th>GenreName</th>\n",
       "    </tr>\n",
       "  </thead>\n",
       "  <tbody>\n",
       "    <tr>\n",
       "      <th>0</th>\n",
       "      <td>Mel Gibson</td>\n",
       "      <td>6</td>\n",
       "      <td>5.059762e+06</td>\n",
       "      <td>Comedy</td>\n",
       "    </tr>\n",
       "    <tr>\n",
       "      <th>1</th>\n",
       "      <td>Queen Latifah</td>\n",
       "      <td>6</td>\n",
       "      <td>2.656453e+06</td>\n",
       "      <td>Comedy</td>\n",
       "    </tr>\n",
       "    <tr>\n",
       "      <th>2</th>\n",
       "      <td>Adam Sandler</td>\n",
       "      <td>8</td>\n",
       "      <td>2.355825e+06</td>\n",
       "      <td>Comedy</td>\n",
       "    </tr>\n",
       "    <tr>\n",
       "      <th>3</th>\n",
       "      <td>Viggo Mortensen</td>\n",
       "      <td>4</td>\n",
       "      <td>2.195224e+06</td>\n",
       "      <td>Comedy</td>\n",
       "    </tr>\n",
       "    <tr>\n",
       "      <th>4</th>\n",
       "      <td>Jack Black</td>\n",
       "      <td>6</td>\n",
       "      <td>1.923105e+06</td>\n",
       "      <td>Comedy</td>\n",
       "    </tr>\n",
       "  </tbody>\n",
       "</table>\n",
       "</div>"
      ],
      "text/plain": [
       "             actor  nummovies    Wavgprofit GenreName\n",
       "0       Mel Gibson          6  5.059762e+06    Comedy\n",
       "1    Queen Latifah          6  2.656453e+06    Comedy\n",
       "2     Adam Sandler          8  2.355825e+06    Comedy\n",
       "3  Viggo Mortensen          4  2.195224e+06    Comedy\n",
       "4       Jack Black          6  1.923105e+06    Comedy"
      ]
     },
     "execution_count": 49,
     "metadata": {},
     "output_type": "execute_result"
    }
   ],
   "source": [
    "df2 = pd.read_csv(\"ActorsAVGWavgprofit.csv\")\n",
    "df2.head()"
   ]
  },
  {
   "cell_type": "code",
   "execution_count": 45,
   "metadata": {},
   "outputs": [],
   "source": [
    "toptencomdir_profits = df2[0:15]"
   ]
  },
  {
   "cell_type": "code",
   "execution_count": 51,
   "metadata": {},
   "outputs": [
    {
     "data": {
      "image/png": "[encoded data removed]",
      "text/plain": [
       "<Figure size 432x288 with 1 Axes>"
      ]
     },
     "metadata": {
      "needs_background": "light"
     },
     "output_type": "display_data"
    }
   ],
   "source": [
    "ax = toptencomdir_rating.plot.bar(x = 'actor', y= 'profit')\n",
    "ax.set_ylabel('Average Profit in bil.')\n",
    "\n",
    "ax.set_title('Actors and Profit')\n",
    "\n",
    "plt.show()"
   ]
  },
  {
   "cell_type": "code",
   "execution_count": null,
   "metadata": {},
   "outputs": [],
   "source": []
  }
 ],
 "metadata": {
  "kernelspec": {
   "display_name": "Python 3",
   "language": "python",
   "name": "python3"
  },
  "language_info": {
   "codemirror_mode": {
    "name": "ipython",
    "version": 3
   },
   "file_extension": ".py",
   "mimetype": "text/x-python",
   "name": "python",
   "nbconvert_exporter": "python",
   "pygments_lexer": "ipython3",
   "version": "3.7.3"
  }
 },
 "nbformat": 4,
 "nbformat_minor": 2
}
