{
 "cells": [
  {
   "cell_type": "code",
   "execution_count": 1,
   "metadata": {},
   "outputs": [],
   "source": [
    "import mysql.connector\n",
    "import config\n",
    "import time\n",
    "import requests\n",
    "import json\n",
    "\n",
    "api_key = config.OMDB_api_key\n",
    "\n",
    "#creates and opens a connection to the AWS database\n",
    "def create_cnx_cur():\n",
    "    cnx = mysql.connector.connect(\n",
    "            host = config.host,\n",
    "            user = config.user,\n",
    "            passwd = config.password)\n",
    "\n",
    "    cursor = cnx.cursor()\n",
    "    return (cnx, cursor)\n",
    "\n",
    "\n",
    "def close_connection(cnx, cursor):\n",
    "    cursor.close()\n",
    "    cnx.close()\n",
    "\n",
    "#creates a new database in the AWS database\n",
    "def create_database(cursor, database):\n",
    "    try:\n",
    "        #it will try to create a database with whatever name passed through\n",
    "        cursor.execute(\n",
    "            \"CREATE DATABASE {} DEFAULT CHARACTER SET 'utf8'\".format(database))\n",
    "        #if this fails, the error will print out as a message\n",
    "    except mysql.connector.Error as err:\n",
    "        print(\"Failed creating database: {}\".format(err))\n",
    "        try:\n",
    "            exit()\n",
    "        except NameError:\n",
    "            return\n",
    "\n",
    "    #this is going to try the above function\n",
    "    try:\n",
    "        cursor.execute(\"USE {}\".format(database))\n",
    "    except mysql.connector.Error as err:\n",
    "        print(\"Database {} does not exists.\".format(database))\n",
    "        if err.errno == errorcode.ER_BAD_DB_ERROR:\n",
    "            create_database(cursor, database)\n",
    "            print(\"Database {} created successfully.\".format(database))\n",
    "            cnx.database = database\n",
    "        else:\n",
    "            print(err)\n",
    "            exit()\n",
    "\n",
    "\n",
    "def add_tables_to_db(TABLES, cursor):\n",
    "    from mysql.connector import errorcode\n",
    "    for table_name in TABLES:\n",
    "        table_description = TABLES[table_name]\n",
    "        try:\n",
    "            print(\"Creating table {}: \".format(table_name), end='')\n",
    "            cursor.execute(\"\"\"USE yelp\"\"\")\n",
    "            cursor.execute(table_description)\n",
    "        except mysql.connector.Error as err:\n",
    "            if err.errno == errorcode.ER_TABLE_EXISTS_ERROR:\n",
    "                print(\"already exists.\")\n",
    "            else:\n",
    "                print(err.msg)\n",
    "        else:\n",
    "            print(\"OK\")"
   ]
  },
  {
   "cell_type": "code",
   "execution_count": 9,
   "metadata": {},
   "outputs": [],
   "source": [
    "c = create_cnx_cur()"
   ]
  },
  {
   "cell_type": "code",
   "execution_count": 10,
   "metadata": {},
   "outputs": [],
   "source": [
    "cnx = c[0]\n",
    "cursor = c[1]"
   ]
  },
  {
   "cell_type": "code",
   "execution_count": 12,
   "metadata": {},
   "outputs": [],
   "source": [
    "db_name = 'Moovies'"
   ]
  },
  {
   "cell_type": "code",
   "execution_count": 13,
   "metadata": {},
   "outputs": [],
   "source": [
    "create_database(cursor, db_name)"
   ]
  },
  {
   "cell_type": "code",
   "execution_count": null,
   "metadata": {},
   "outputs": [],
   "source": [
    "TABLES = {}\n",
    "\n",
    "TABLES['movies'] = (\n",
    "                        \"\"\"CREATE TABLE movies (\n",
    "                                 movieId VARCHAR(25),\n",
    "                                 movieTitle TEXT,\n",
    "                                 box-office REAL ,\n",
    "                                 rating REAL,\n",
    "                                  TEXT,\n",
    "                                 PRIMARY KEY (businessId)\n",
    "                                 ) ENGINE=InnoDB\"\"\")"
   ]
  },
  {
   "cell_type": "code",
   "execution_count": null,
   "metadata": {},
   "outputs": [],
   "source": []
  }
 ],
 "metadata": {
  "kernelspec": {
   "display_name": "Python 3",
   "language": "python",
   "name": "python3"
  },
  "language_info": {
   "codemirror_mode": {
    "name": "ipython",
    "version": 3
   },
   "file_extension": ".py",
   "mimetype": "text/x-python",
   "name": "python",
   "nbconvert_exporter": "python",
   "pygments_lexer": "ipython3",
   "version": "3.7.3"
  }
 },
 "nbformat": 4,
 "nbformat_minor": 2
}
