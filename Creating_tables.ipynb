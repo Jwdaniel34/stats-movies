{
 "cells": [
  {
   "cell_type": "code",
   "execution_count": 2,
   "metadata": {},
   "outputs": [],
   "source": [
    "import mysql.connector\n",
    "import config\n",
    "import time\n",
    "import requests\n",
    "import json\n",
    "\n",
    "#creates and opens a connection to the AWS database\n",
    "def create_cnx_cur():\n",
    "    cnx = mysql.connector.connect(\n",
    "            host = config.host,\n",
    "            user = config.user,\n",
    "            passwd = config.password)\n",
    "\n",
    "    cursor = cnx.cursor()\n",
    "    return (cnx, cursor)\n",
    "\n",
    "\n",
    "def close_connection(cnx, cursor):\n",
    "    cursor.close()\n",
    "    cnx.close()\n",
    "\n",
    "#creates a new database in the AWS database\n",
    "def create_database(cursor, database):\n",
    "    try:\n",
    "        #it will try to create a database with whatever name passed through\n",
    "        cursor.execute(\n",
    "            \"CREATE DATABASE {} DEFAULT CHARACTER SET 'utf8'\".format(database))\n",
    "        #if this fails, the error will print out as a message\n",
    "    except mysql.connector.Error as err:\n",
    "        print(\"Failed creating database: {}\".format(err))\n",
    "        try:\n",
    "            exit()\n",
    "        except NameError:\n",
    "            return\n",
    "\n",
    "    #this is going to try the above function\n",
    "    try:\n",
    "        cursor.execute(\"USE {}\".format(database))\n",
    "    except mysql.connector.Error as err:\n",
    "        print(\"Database {} does not exists.\".format(database))\n",
    "        if err.errno == errorcode.ER_BAD_DB_ERROR:\n",
    "            create_database(cursor, database)\n",
    "            print(\"Database {} created successfully.\".format(database))\n",
    "            cnx.database = database\n",
    "        else:\n",
    "            print(err)\n",
    "            exit()\n",
    "\n",
    "\n",
    "def add_tables_to_db(TABLES, cursor, db_name):\n",
    "    from mysql.connector import errorcode\n",
    "    for table_name in TABLES:\n",
    "        table_description = TABLES[table_name]\n",
    "        try:\n",
    "            print(\"Creating table {}: \".format(table_name), end='')\n",
    "            cursor.execute(f\"\"\"USE {db_name}\"\"\")\n",
    "            cursor.execute(table_description)\n",
    "        except mysql.connector.Error as err:\n",
    "            if err.errno == errorcode.ER_TABLE_EXISTS_ERROR:\n",
    "                print(\"already exists.\")\n",
    "            else:\n",
    "                print(err.msg)\n",
    "        else:\n",
    "            print(\"OK\")"
   ]
  },
  {
   "cell_type": "code",
   "execution_count": 3,
   "metadata": {},
   "outputs": [],
   "source": [
    "c = create_cnx_cur()"
   ]
  },
  {
   "cell_type": "code",
   "execution_count": 4,
   "metadata": {},
   "outputs": [],
   "source": [
    "cnx = c[0]\n",
    "cursor = c[1]"
   ]
  },
  {
   "cell_type": "code",
   "execution_count": 5,
   "metadata": {},
   "outputs": [],
   "source": [
    "db_name = 'Moovies'"
   ]
  },
  {
   "cell_type": "code",
   "execution_count": null,
   "metadata": {},
   "outputs": [],
   "source": [
    "create_database(cursor, db_name)"
   ]
  },
  {
   "cell_type": "code",
   "execution_count": 21,
   "metadata": {},
   "outputs": [],
   "source": [
    "TABLES = {}\n",
    "\n",
    "# TABLES['movies'] = (\"\"\"CREATE TABLE movies (\n",
    "#                                  movieId VARCHAR(25),\n",
    "#                                  movieTitle VARCHAR(255) NOT NULL,\n",
    "#                                  revenue REAL,\n",
    "#                                  rating REAL,\n",
    "#                                  released DATE NOT NULL,\n",
    "#                                  production TEXT,\n",
    "#                                  PRIMARY KEY (movieTitle, released)\n",
    "#                                  ) ENGINE=InnoDB\"\"\")\n",
    "\n",
    "TABLES['paul'] = (\"\"\"CREATE TABLE paul (\n",
    "                            title VARCHAR(255) NOT NULL,\n",
    "                            released DATE NOT NULL,\n",
    "                            imdbID VARCHAR(25),\n",
    "                            director VARCHAR(50),\n",
    "                            PRIMARY KEY (title, released)\n",
    "                            ) ENGINE=InnoDB\"\"\")\n",
    "\n",
    "TABLES['actors'] = (\"\"\"CREATE TABLE actors (\n",
    "                            id INTEGER AUTO_INCREMENT,\n",
    "                            imdbid VARCHAR(25),\n",
    "                            actor VARCHAR(225),\n",
    "                            PRIMARY KEY (id)\n",
    "                            ) ENGINE=InnoDB\"\"\")"
   ]
  },
  {
   "cell_type": "code",
   "execution_count": 22,
   "metadata": {},
   "outputs": [
    {
     "name": "stdout",
     "output_type": "stream",
     "text": [
      "Creating table paul: already exists.\n",
      "Creating table actors: OK\n"
     ]
    }
   ],
   "source": [
    "add_tables_to_db(TABLES, cursor, db_name)"
   ]
  },
  {
   "cell_type": "code",
   "execution_count": 16,
   "metadata": {},
   "outputs": [],
   "source": [
    "close_connection(cnx,cursor)"
   ]
  },
  {
   "cell_type": "code",
   "execution_count": null,
   "metadata": {},
   "outputs": [],
   "source": [
    "def add_businesses_to_db(tryresults):\n",
    "    cnx_cur = create_cnx_cur()\n",
    "    cnx = cnx_cur[0]\n",
    "    cursor = cnx_cur[1]\n",
    "    # for each business that is in our results from our API request\n",
    "    for i in range(len(tryresults['businesses'])):\n",
    "        # sql statement to add row\n",
    "        add_business = (\"\"\"INSERT INTO businesses\n",
    "                                VALUES (%s, %s, %s, %s, %s)\n",
    "                        \"\"\")\n",
    "        try:\n",
    "            # note: location is made of a two-item list -- the first address line\n",
    "            # and the city/state/etc.\n",
    "            business_values = (tryresults['businesses'][i]['id'],\n",
    "                            tryresults['businesses'][i]['name'],\n",
    "                            tryresults['businesses'][i]['price'],\n",
    "                            tryresults['businesses'][i]['rating'],\n",
    "                            tryresults['businesses'][i]['location']['display_address'][0]+\", \"+tryresults['businesses'][i]['location']['display_address'][1])\n",
    "\n",
    "            cursor.execute(\"USE yelp\") #gets us into the yelp db instance\n",
    "            cursor.execute(add_business, business_values)\n",
    "\n",
    "        except mysql.connector.IntegrityError: # here to skip existing entries\n",
    "            continue\n",
    "        except KeyError: # here to skip the restaurants that are missing values, such as price\n",
    "            continue\n",
    "        except IndexError:\n",
    "            try:\n",
    "                print(\"Issue with: \", tryresults['businesses'][i])\n",
    "                business_values = (tryresults['businesses'][i]['id'],\n",
    "                                tryresults['businesses'][i]['name'],\n",
    "                               tryresults['businesses'][i]['price'],\n",
    "                               tryresults['businesses'][i]['rating'],\n",
    "                               tryresults['businesses'][i]['location']['display_address'][0])\n",
    "                cursor.execute(\"USE yelp\") #gets us into the yelp db instance\n",
    "                cursor.execute(add_business, business_values)\n",
    "            except:\n",
    "                print(\"Issue with: \", tryresults['businesses'][i])\n",
    "                business_values = (tryresults['businesses'][i]['id'],\n",
    "                                tryresults['businesses'][i]['name'],\n",
    "                               tryresults['businesses'][i]['price'],\n",
    "                               tryresults['businesses'][i]['rating'],\n",
    "                               null)\n",
    "                cursor.execute(\"USE yelp\") #gets us into the yelp db instance\n",
    "                cursor.execute(add_business, business_values)\n",
    "\n",
    "\n",
    "\n",
    "\n",
    "    cnx.commit()\n",
    "    close_connection(cnx, cursor)"
   ]
  }
 ],
 "metadata": {
  "kernelspec": {
   "display_name": "Python 3",
   "language": "python",
   "name": "python3"
  },
  "language_info": {
   "codemirror_mode": {
    "name": "ipython",
    "version": 3
   },
   "file_extension": ".py",
   "mimetype": "text/x-python",
   "name": "python",
   "nbconvert_exporter": "python",
   "pygments_lexer": "ipython3",
   "version": "3.7.3"
  }
 },
 "nbformat": 4,
 "nbformat_minor": 2
}
